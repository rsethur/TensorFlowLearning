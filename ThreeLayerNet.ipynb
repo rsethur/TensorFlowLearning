{
 "cells": [
  {
   "cell_type": "markdown",
   "metadata": {},
   "source": [
    "# Three Layer Neural Net"
   ]
  },
  {
   "cell_type": "code",
   "execution_count": 1,
   "metadata": {
    "collapsed": false
   },
   "outputs": [],
   "source": [
    "#Setup MPL (needs to be done before plt is imported)\n",
    "import matplotlib\n",
    "matplotlib.use('Agg')\n",
    "%matplotlib inline"
   ]
  },
  {
   "cell_type": "code",
   "execution_count": 2,
   "metadata": {
    "collapsed": false
   },
   "outputs": [],
   "source": [
    "import numpy as np\n",
    "import tensorflow as tf\n",
    "import matplotlib as mpl\n",
    "from matplotlib import pyplot as plt"
   ]
  },
  {
   "cell_type": "markdown",
   "metadata": {},
   "source": [
    "## Setup the data"
   ]
  },
  {
   "cell_type": "code",
   "execution_count": 3,
   "metadata": {
    "collapsed": false
   },
   "outputs": [
    {
     "name": "stdout",
     "output_type": "stream",
     "text": [
      "Extracting /tmp/data/train-images-idx3-ubyte.gz\n",
      "Extracting /tmp/data/train-labels-idx1-ubyte.gz\n",
      "Extracting /tmp/data/t10k-images-idx3-ubyte.gz\n",
      "Extracting /tmp/data/t10k-labels-idx1-ubyte.gz\n"
     ]
    }
   ],
   "source": [
    "# Import MINST data\n",
    "from tensorflow.examples.tutorials.mnist import input_data\n",
    "with tf.name_scope('dataprep'):\n",
    "    mnist = input_data.read_data_sets(\"/tmp/data/\", one_hot=True)"
   ]
  },
  {
   "cell_type": "code",
   "execution_count": 4,
   "metadata": {
    "collapsed": false
   },
   "outputs": [
    {
     "name": "stdout",
     "output_type": "stream",
     "text": [
      "Training data:  (55000, 784)\n",
      "Testing data:  (10000, 784)\n",
      "Validation data:  (5000, 784)\n",
      "28 * 28 = 784 pixels of greyscale data\n"
     ]
    }
   ],
   "source": [
    "print \"Training data: \", mnist.train.images.shape\n",
    "print \"Testing data: \", mnist.test.images.shape\n",
    "print \"Validation data: \", mnist.validation.images.shape\n",
    "print \"28 * 28 = 784 pixels of greyscale data\""
   ]
  },
  {
   "cell_type": "code",
   "execution_count": 5,
   "metadata": {
    "collapsed": false
   },
   "outputs": [
    {
     "data": {
      "image/png": "[encoded data removed]",
      "text/plain": [
       "<matplotlib.figure.Figure at 0x7f1917e26ed0>"
      ]
     },
     "metadata": {},
     "output_type": "display_data"
    }
   ],
   "source": [
    "fig = plt.figure()\n",
    "ax = fig.add_subplot(1,1,1)\n",
    "imgplot = ax.imshow(mnist.train.images[1].reshape(28,28), interpolation='nearest', cmap=mpl.cm.Greys)\n",
    "plt.show()"
   ]
  },
  {
   "cell_type": "markdown",
   "metadata": {
    "collapsed": true
   },
   "source": [
    "## TF Model"
   ]
  },
  {
   "cell_type": "code",
   "execution_count": 6,
   "metadata": {
    "collapsed": false
   },
   "outputs": [],
   "source": [
    "# Network Topology\n",
    "n_input    = 784\n",
    "n_hidden_1 = 256\n",
    "n_hidden_2 = 128 \n",
    "n_classes  = 10\n",
    "\n",
    "#Weight should be initialized from a Gaussian with standard deviation equal to weight_scale, \n",
    "#and biases should be initialized to zero\n",
    "weight_scale=0.1\n",
    "\n",
    "# Parameters\n",
    "learning_rate = 0.001\n",
    "batch_size = 100\n",
    "display_step = 100\n",
    "reg = 1e-6\n",
    "num_epochs = 10\n",
    "num_train = mnist.train.images.shape[0]\n",
    "iterations_per_epoch = max(num_train / batch_size, 1)\n",
    "num_iterations = num_epochs * iterations_per_epoch"
   ]
  },
  {
   "cell_type": "code",
   "execution_count": 7,
   "metadata": {
    "collapsed": false
   },
   "outputs": [
    {
     "name": "stdout",
     "output_type": "stream",
     "text": [
      "5500\n",
      "550\n"
     ]
    }
   ],
   "source": [
    "print num_iterations\n",
    "print iterations_per_epoch"
   ]
  },
  {
   "cell_type": "markdown",
   "metadata": {},
   "source": [
    "### Setup Graph"
   ]
  },
  {
   "cell_type": "code",
   "execution_count": 8,
   "metadata": {
    "collapsed": false
   },
   "outputs": [],
   "source": [
    "tf.reset_default_graph()\n",
    "# Inputs\n",
    "with tf.name_scope('inputs'):\n",
    "    X = tf.placeholder(tf.float32, [None, 784], name=\"X-input\")\n",
    "    y = tf.placeholder(tf.float32, [None, 10], name=\"y-input\")\n",
    "\n",
    "# Weights (Variables)\n",
    "with tf.name_scope('weights'):    \n",
    "    layer1_W = tf.Variable(tf.random_normal([n_input, n_hidden_1], stddev=weight_scale), name=\"layer1_weights\")\n",
    "    layer1_b = tf.Variable(tf.zeros([n_hidden_1]), name=\"layer1_bias\")\n",
    "    #layer1_b = tf.Variable(tf.random_normal([n_hidden_1]), name=\"layer1_bias\")\n",
    "    layer2_W = tf.Variable(tf.random_normal([n_hidden_1, n_hidden_2], stddev=weight_scale), name=\"layer2_weights\")\n",
    "    layer2_b = tf.Variable(tf.zeros([n_hidden_2]), name=\"layer2_bias\")\n",
    "    #layer2_b = tf.Variable(tf.random_normal([n_hidden_2]), name=\"layer2_bias\")\n",
    "    layer3_W = tf.Variable(tf.random_normal([n_hidden_2, n_classes], stddev=weight_scale), name=\"layer3_weights\")\n",
    "    layer3_b = tf.Variable(tf.zeros([n_classes]), name=\"layer3_bias\")    \n",
    "    #layer3_b = tf.Variable(tf.random_normal([n_classes]), name=\"layer3_bias\")\n",
    "\n",
    "# Operations\n",
    "with tf.name_scope('Model'):\n",
    "    layer1_activations = tf.nn.sigmoid(tf.matmul(X, layer1_W) + layer1_b)\n",
    "    layer2_activations = tf.nn.sigmoid(tf.matmul(layer1_activations, layer2_W) + layer2_b)\n",
    "    scores = tf.matmul(layer2_activations, layer3_W) + layer3_b\n",
    "\n",
    "#better to use tf.nn.sparse_softmax_cross_entropy_with_logits\n",
    "with tf.name_scope('loss'):\n",
    "    loss = tf.reduce_mean(tf.nn.softmax_cross_entropy_with_logits(scores, y) ) #+ reg * tf.nn.l2_loss(layer3_W)\n",
    "\n",
    "# Train\n",
    "with tf.name_scope('train'):\n",
    "    #optimizer = tf.train.GradientDescentOptimizer(learning_rate).minimize(loss)\n",
    "    optimizer = tf.train.AdamOptimizer(learning_rate).minimize(loss)    \n",
    "\n",
    "with tf.name_scope('trainPrediction'):\n",
    "    prediction = tf.nn.softmax(scores)\n",
    "\n",
    "with tf.name_scope('Accuracy'):\n",
    "    # Accuracy\n",
    "    correct_prediction = tf.equal(tf.argmax(y,1), tf.argmax(prediction,1))\n",
    "    accuracy = tf.reduce_mean(tf.cast(correct_prediction, tf.float32))\n",
    "    \n",
    "with tf.name_scope('Summaries'):\n",
    "    tr_loss_summary_op = tf.scalar_summary('training loss', loss)\n",
    "    tr_acc_summary_op = tf.scalar_summary(\"training accuracy\", accuracy)\n",
    "    train_summary_op = tf.merge_summary([tr_loss_summary_op, tr_acc_summary_op])\n",
    "    \n",
    "    val_acc_summary_op = tf.scalar_summary(\"validation accuracy\", accuracy)        \n",
    "\n",
    "# Initializing the variables\n",
    "with tf.name_scope('globalOps'):          \n",
    "    init = tf.initialize_all_variables()   "
   ]
  },
  {
   "cell_type": "markdown",
   "metadata": {},
   "source": [
    "## Execute graph"
   ]
  },
  {
   "cell_type": "code",
   "execution_count": 9,
   "metadata": {
    "collapsed": false,
    "scrolled": true
   },
   "outputs": [
    {
     "name": "stdout",
     "output_type": "stream",
     "text": [
      "Test Set Accuracy:  0.9772\n",
      "done\n"
     ]
    }
   ],
   "source": [
    "sess = tf.Session()\n",
    "writer = tf.train.SummaryWriter('./ThreeLayerNet2', sess.graph)\n",
    "\n",
    "sess.run(init)\n",
    "\n",
    "# Training cycle\n",
    "for step in xrange(num_iterations):\n",
    "    minibatchX, minibatchy = mnist.train.next_batch(batch_size)        \n",
    "    _ = sess.run([optimizer], feed_dict = {X:minibatchX, y:minibatchy})        \n",
    "    \n",
    "    #compute loss & accuracy and log to TensorBoard\n",
    "    if (step % display_step == 0):\n",
    "        _, tr_summ = sess.run([accuracy, train_summary_op], feed_dict = {X:minibatchX, y:minibatchy})\n",
    "        _, val_summ = sess.run([accuracy, val_acc_summary_op], feed_dict = {X:mnist.validation.images, y:mnist.validation.labels})\n",
    "        writer.add_summary(tr_summ, step)\n",
    "        writer.add_summary(val_summ, step)    \n",
    "    \n",
    "#Final eval\n",
    "print \"Test Set Accuracy: \", sess.run(accuracy,feed_dict={X: mnist.test.images, y: mnist.test.labels})\n",
    "print \"done\"\n",
    "\n",
    "writer.flush()\n",
    "writer.close()\n",
    "sess.close()"
   ]
  }
 ],
 "metadata": {
  "kernelspec": {
   "display_name": "Python 2",
   "language": "python",
   "name": "python2"
  },
  "language_info": {
   "codemirror_mode": {
    "name": "ipython",
    "version": 2
   },
   "file_extension": ".py",
   "mimetype": "text/x-python",
   "name": "python",
   "nbconvert_exporter": "python",
   "pygments_lexer": "ipython2",
   "version": "2.7.6"
  }
 },
 "nbformat": 4,
 "nbformat_minor": 1
}
